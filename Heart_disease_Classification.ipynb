{
  "cells": [
    {
      "cell_type": "markdown",
      "id": "4b9adb7b",
      "metadata": {
        "id": "4b9adb7b"
      },
      "source": [
        "## Import các thư viện cần thiết"
      ]
    },
    {
      "cell_type": "code",
      "execution_count": null,
      "id": "cc216856",
      "metadata": {
        "id": "cc216856"
      },
      "outputs": [],
      "source": [
        "import numpy as np\n",
        "import pandas as pd\n",
        "import matplotlib.pyplot as plt\n",
        "import torch\n",
        "from torch import nn\n",
        "import torch.optim as optim\n",
        "from torch.utils.data import Dataset, DataLoader\n",
        "\n",
        "from sklearn . model_selection import train_test_split\n",
        "from sklearn . preprocessing import StandardScaler\n",
        "\n",
        "device = torch.device('cuda:0' if torch.cuda.is_available() else 'cpu')"
      ]
    },
    {
      "cell_type": "markdown",
      "id": "65279101",
      "metadata": {
        "id": "65279101"
      },
      "source": [
        "## Tải và đọc tập dữ liệu"
      ]
    },
    {
      "cell_type": "code",
      "execution_count": null,
      "id": "7a16d2c2",
      "metadata": {
        "id": "7a16d2c2"
      },
      "outputs": [],
      "source": [
        "# import the heart disease dataset\n",
        "url = \"heart_statlog_cleveland_hungary_final.csv\"\n",
        "\n",
        "# read the csv\n",
        "dataset = pd.read_csv(url)"
      ]
    },
    {
      "cell_type": "markdown",
      "id": "9c061017",
      "metadata": {
        "id": "9c061017"
      },
      "source": [
        "## Phân tích tập dữ liệu"
      ]
    },
    {
      "cell_type": "code",
      "execution_count": null,
      "id": "5746a9c0",
      "metadata": {
        "id": "5746a9c0"
      },
      "outputs": [],
      "source": [
        "dataset.shape"
      ]
    },
    {
      "cell_type": "code",
      "execution_count": null,
      "id": "17d99898",
      "metadata": {
        "id": "17d99898",
        "colab": {
          "base_uri": "https://localhost:8080/",
          "height": 241
        },
        "outputId": "90debb9c-4c51-4348-89e1-acc487922b65"
      },
      "outputs": [
        {
          "output_type": "execute_result",
          "data": {
            "text/plain": [
              "   age  sex  chest pain type  resting bp s  cholesterol  fasting blood sugar  \\\n",
              "0   40    1                2           140          289                    0   \n",
              "1   49    0                3           160          180                    0   \n",
              "2   37    1                2           130          283                    0   \n",
              "3   48    0                4           138          214                    0   \n",
              "4   54    1                3           150          195                    0   \n",
              "\n",
              "   resting ecg  max heart rate  exercise angina  oldpeak  ST slope  target  \n",
              "0            0             172                0      0.0         1       0  \n",
              "1            0             156                0      1.0         2       1  \n",
              "2            1              98                0      0.0         1       0  \n",
              "3            0             108                1      1.5         2       1  \n",
              "4            0             122                0      0.0         1       0  "
            ],
            "text/html": [
              "\n",
              "  <div id=\"df-25c43cbe-8e85-4401-9554-b539a0f7203c\" class=\"colab-df-container\">\n",
              "    <div>\n",
              "<style scoped>\n",
              "    .dataframe tbody tr th:only-of-type {\n",
              "        vertical-align: middle;\n",
              "    }\n",
              "\n",
              "    .dataframe tbody tr th {\n",
              "        vertical-align: top;\n",
              "    }\n",
              "\n",
              "    .dataframe thead th {\n",
              "        text-align: right;\n",
              "    }\n",
              "</style>\n",
              "<table border=\"1\" class=\"dataframe\">\n",
              "  <thead>\n",
              "    <tr style=\"text-align: right;\">\n",
              "      <th></th>\n",
              "      <th>age</th>\n",
              "      <th>sex</th>\n",
              "      <th>chest pain type</th>\n",
              "      <th>resting bp s</th>\n",
              "      <th>cholesterol</th>\n",
              "      <th>fasting blood sugar</th>\n",
              "      <th>resting ecg</th>\n",
              "      <th>max heart rate</th>\n",
              "      <th>exercise angina</th>\n",
              "      <th>oldpeak</th>\n",
              "      <th>ST slope</th>\n",
              "      <th>target</th>\n",
              "    </tr>\n",
              "  </thead>\n",
              "  <tbody>\n",
              "    <tr>\n",
              "      <th>0</th>\n",
              "      <td>40</td>\n",
              "      <td>1</td>\n",
              "      <td>2</td>\n",
              "      <td>140</td>\n",
              "      <td>289</td>\n",
              "      <td>0</td>\n",
              "      <td>0</td>\n",
              "      <td>172</td>\n",
              "      <td>0</td>\n",
              "      <td>0.0</td>\n",
              "      <td>1</td>\n",
              "      <td>0</td>\n",
              "    </tr>\n",
              "    <tr>\n",
              "      <th>1</th>\n",
              "      <td>49</td>\n",
              "      <td>0</td>\n",
              "      <td>3</td>\n",
              "      <td>160</td>\n",
              "      <td>180</td>\n",
              "      <td>0</td>\n",
              "      <td>0</td>\n",
              "      <td>156</td>\n",
              "      <td>0</td>\n",
              "      <td>1.0</td>\n",
              "      <td>2</td>\n",
              "      <td>1</td>\n",
              "    </tr>\n",
              "    <tr>\n",
              "      <th>2</th>\n",
              "      <td>37</td>\n",
              "      <td>1</td>\n",
              "      <td>2</td>\n",
              "      <td>130</td>\n",
              "      <td>283</td>\n",
              "      <td>0</td>\n",
              "      <td>1</td>\n",
              "      <td>98</td>\n",
              "      <td>0</td>\n",
              "      <td>0.0</td>\n",
              "      <td>1</td>\n",
              "      <td>0</td>\n",
              "    </tr>\n",
              "    <tr>\n",
              "      <th>3</th>\n",
              "      <td>48</td>\n",
              "      <td>0</td>\n",
              "      <td>4</td>\n",
              "      <td>138</td>\n",
              "      <td>214</td>\n",
              "      <td>0</td>\n",
              "      <td>0</td>\n",
              "      <td>108</td>\n",
              "      <td>1</td>\n",
              "      <td>1.5</td>\n",
              "      <td>2</td>\n",
              "      <td>1</td>\n",
              "    </tr>\n",
              "    <tr>\n",
              "      <th>4</th>\n",
              "      <td>54</td>\n",
              "      <td>1</td>\n",
              "      <td>3</td>\n",
              "      <td>150</td>\n",
              "      <td>195</td>\n",
              "      <td>0</td>\n",
              "      <td>0</td>\n",
              "      <td>122</td>\n",
              "      <td>0</td>\n",
              "      <td>0.0</td>\n",
              "      <td>1</td>\n",
              "      <td>0</td>\n",
              "    </tr>\n",
              "  </tbody>\n",
              "</table>\n",
              "</div>\n",
              "    <div class=\"colab-df-buttons\">\n",
              "\n",
              "  <div class=\"colab-df-container\">\n",
              "    <button class=\"colab-df-convert\" onclick=\"convertToInteractive('df-25c43cbe-8e85-4401-9554-b539a0f7203c')\"\n",
              "            title=\"Convert this dataframe to an interactive table.\"\n",
              "            style=\"display:none;\">\n",
              "\n",
              "  <svg xmlns=\"http://www.w3.org/2000/svg\" height=\"24px\" viewBox=\"0 -960 960 960\">\n",
              "    <path d=\"M120-120v-720h720v720H120Zm60-500h600v-160H180v160Zm220 220h160v-160H400v160Zm0 220h160v-160H400v160ZM180-400h160v-160H180v160Zm440 0h160v-160H620v160ZM180-180h160v-160H180v160Zm440 0h160v-160H620v160Z\"/>\n",
              "  </svg>\n",
              "    </button>\n",
              "\n",
              "  <style>\n",
              "    .colab-df-container {\n",
              "      display:flex;\n",
              "      gap: 12px;\n",
              "    }\n",
              "\n",
              "    .colab-df-convert {\n",
              "      background-color: #E8F0FE;\n",
              "      border: none;\n",
              "      border-radius: 50%;\n",
              "      cursor: pointer;\n",
              "      display: none;\n",
              "      fill: #1967D2;\n",
              "      height: 32px;\n",
              "      padding: 0 0 0 0;\n",
              "      width: 32px;\n",
              "    }\n",
              "\n",
              "    .colab-df-convert:hover {\n",
              "      background-color: #E2EBFA;\n",
              "      box-shadow: 0px 1px 2px rgba(60, 64, 67, 0.3), 0px 1px 3px 1px rgba(60, 64, 67, 0.15);\n",
              "      fill: #174EA6;\n",
              "    }\n",
              "\n",
              "    .colab-df-buttons div {\n",
              "      margin-bottom: 4px;\n",
              "    }\n",
              "\n",
              "    [theme=dark] .colab-df-convert {\n",
              "      background-color: #3B4455;\n",
              "      fill: #D2E3FC;\n",
              "    }\n",
              "\n",
              "    [theme=dark] .colab-df-convert:hover {\n",
              "      background-color: #434B5C;\n",
              "      box-shadow: 0px 1px 3px 1px rgba(0, 0, 0, 0.15);\n",
              "      filter: drop-shadow(0px 1px 2px rgba(0, 0, 0, 0.3));\n",
              "      fill: #FFFFFF;\n",
              "    }\n",
              "  </style>\n",
              "\n",
              "    <script>\n",
              "      const buttonEl =\n",
              "        document.querySelector('#df-25c43cbe-8e85-4401-9554-b539a0f7203c button.colab-df-convert');\n",
              "      buttonEl.style.display =\n",
              "        google.colab.kernel.accessAllowed ? 'block' : 'none';\n",
              "\n",
              "      async function convertToInteractive(key) {\n",
              "        const element = document.querySelector('#df-25c43cbe-8e85-4401-9554-b539a0f7203c');\n",
              "        const dataTable =\n",
              "          await google.colab.kernel.invokeFunction('convertToInteractive',\n",
              "                                                    [key], {});\n",
              "        if (!dataTable) return;\n",
              "\n",
              "        const docLinkHtml = 'Like what you see? Visit the ' +\n",
              "          '<a target=\"_blank\" href=https://colab.research.google.com/notebooks/data_table.ipynb>data table notebook</a>'\n",
              "          + ' to learn more about interactive tables.';\n",
              "        element.innerHTML = '';\n",
              "        dataTable['output_type'] = 'display_data';\n",
              "        await google.colab.output.renderOutput(dataTable, element);\n",
              "        const docLink = document.createElement('div');\n",
              "        docLink.innerHTML = docLinkHtml;\n",
              "        element.appendChild(docLink);\n",
              "      }\n",
              "    </script>\n",
              "  </div>\n",
              "\n",
              "\n",
              "<div id=\"df-b523cf7f-bb27-4780-ac38-9084cd6856db\">\n",
              "  <button class=\"colab-df-quickchart\" onclick=\"quickchart('df-b523cf7f-bb27-4780-ac38-9084cd6856db')\"\n",
              "            title=\"Suggest charts\"\n",
              "            style=\"display:none;\">\n",
              "\n",
              "<svg xmlns=\"http://www.w3.org/2000/svg\" height=\"24px\"viewBox=\"0 0 24 24\"\n",
              "     width=\"24px\">\n",
              "    <g>\n",
              "        <path d=\"M19 3H5c-1.1 0-2 .9-2 2v14c0 1.1.9 2 2 2h14c1.1 0 2-.9 2-2V5c0-1.1-.9-2-2-2zM9 17H7v-7h2v7zm4 0h-2V7h2v10zm4 0h-2v-4h2v4z\"/>\n",
              "    </g>\n",
              "</svg>\n",
              "  </button>\n",
              "\n",
              "<style>\n",
              "  .colab-df-quickchart {\n",
              "      --bg-color: #E8F0FE;\n",
              "      --fill-color: #1967D2;\n",
              "      --hover-bg-color: #E2EBFA;\n",
              "      --hover-fill-color: #174EA6;\n",
              "      --disabled-fill-color: #AAA;\n",
              "      --disabled-bg-color: #DDD;\n",
              "  }\n",
              "\n",
              "  [theme=dark] .colab-df-quickchart {\n",
              "      --bg-color: #3B4455;\n",
              "      --fill-color: #D2E3FC;\n",
              "      --hover-bg-color: #434B5C;\n",
              "      --hover-fill-color: #FFFFFF;\n",
              "      --disabled-bg-color: #3B4455;\n",
              "      --disabled-fill-color: #666;\n",
              "  }\n",
              "\n",
              "  .colab-df-quickchart {\n",
              "    background-color: var(--bg-color);\n",
              "    border: none;\n",
              "    border-radius: 50%;\n",
              "    cursor: pointer;\n",
              "    display: none;\n",
              "    fill: var(--fill-color);\n",
              "    height: 32px;\n",
              "    padding: 0;\n",
              "    width: 32px;\n",
              "  }\n",
              "\n",
              "  .colab-df-quickchart:hover {\n",
              "    background-color: var(--hover-bg-color);\n",
              "    box-shadow: 0 1px 2px rgba(60, 64, 67, 0.3), 0 1px 3px 1px rgba(60, 64, 67, 0.15);\n",
              "    fill: var(--button-hover-fill-color);\n",
              "  }\n",
              "\n",
              "  .colab-df-quickchart-complete:disabled,\n",
              "  .colab-df-quickchart-complete:disabled:hover {\n",
              "    background-color: var(--disabled-bg-color);\n",
              "    fill: var(--disabled-fill-color);\n",
              "    box-shadow: none;\n",
              "  }\n",
              "\n",
              "  .colab-df-spinner {\n",
              "    border: 2px solid var(--fill-color);\n",
              "    border-color: transparent;\n",
              "    border-bottom-color: var(--fill-color);\n",
              "    animation:\n",
              "      spin 1s steps(1) infinite;\n",
              "  }\n",
              "\n",
              "  @keyframes spin {\n",
              "    0% {\n",
              "      border-color: transparent;\n",
              "      border-bottom-color: var(--fill-color);\n",
              "      border-left-color: var(--fill-color);\n",
              "    }\n",
              "    20% {\n",
              "      border-color: transparent;\n",
              "      border-left-color: var(--fill-color);\n",
              "      border-top-color: var(--fill-color);\n",
              "    }\n",
              "    30% {\n",
              "      border-color: transparent;\n",
              "      border-left-color: var(--fill-color);\n",
              "      border-top-color: var(--fill-color);\n",
              "      border-right-color: var(--fill-color);\n",
              "    }\n",
              "    40% {\n",
              "      border-color: transparent;\n",
              "      border-right-color: var(--fill-color);\n",
              "      border-top-color: var(--fill-color);\n",
              "    }\n",
              "    60% {\n",
              "      border-color: transparent;\n",
              "      border-right-color: var(--fill-color);\n",
              "    }\n",
              "    80% {\n",
              "      border-color: transparent;\n",
              "      border-right-color: var(--fill-color);\n",
              "      border-bottom-color: var(--fill-color);\n",
              "    }\n",
              "    90% {\n",
              "      border-color: transparent;\n",
              "      border-bottom-color: var(--fill-color);\n",
              "    }\n",
              "  }\n",
              "</style>\n",
              "\n",
              "  <script>\n",
              "    async function quickchart(key) {\n",
              "      const quickchartButtonEl =\n",
              "        document.querySelector('#' + key + ' button');\n",
              "      quickchartButtonEl.disabled = true;  // To prevent multiple clicks.\n",
              "      quickchartButtonEl.classList.add('colab-df-spinner');\n",
              "      try {\n",
              "        const charts = await google.colab.kernel.invokeFunction(\n",
              "            'suggestCharts', [key], {});\n",
              "      } catch (error) {\n",
              "        console.error('Error during call to suggestCharts:', error);\n",
              "      }\n",
              "      quickchartButtonEl.classList.remove('colab-df-spinner');\n",
              "      quickchartButtonEl.classList.add('colab-df-quickchart-complete');\n",
              "    }\n",
              "    (() => {\n",
              "      let quickchartButtonEl =\n",
              "        document.querySelector('#df-b523cf7f-bb27-4780-ac38-9084cd6856db button');\n",
              "      quickchartButtonEl.style.display =\n",
              "        google.colab.kernel.accessAllowed ? 'block' : 'none';\n",
              "    })();\n",
              "  </script>\n",
              "</div>\n",
              "    </div>\n",
              "  </div>\n"
            ]
          },
          "metadata": {},
          "execution_count": 4
        }
      ],
      "source": [
        "dataset.head()"
      ]
    },
    {
      "cell_type": "code",
      "execution_count": null,
      "id": "1271067c",
      "metadata": {
        "id": "1271067c"
      },
      "outputs": [],
      "source": [
        "dataset.describe()"
      ]
    },
    {
      "cell_type": "markdown",
      "id": "1f4b5714",
      "metadata": {
        "id": "1f4b5714"
      },
      "source": [
        "## Tiền xử lý dữ liệu"
      ]
    },
    {
      "cell_type": "code",
      "execution_count": null,
      "id": "e0e3fb0e",
      "metadata": {
        "id": "e0e3fb0e"
      },
      "outputs": [],
      "source": [
        "dataset.isna().sum()"
      ]
    },
    {
      "cell_type": "code",
      "execution_count": null,
      "id": "de1012b9",
      "metadata": {
        "id": "de1012b9"
      },
      "outputs": [],
      "source": [
        "dataset.info()"
      ]
    },
    {
      "cell_type": "markdown",
      "id": "8b50e1cb",
      "metadata": {
        "id": "8b50e1cb"
      },
      "source": [
        "## Chia tập train, test"
      ]
    },
    {
      "cell_type": "code",
      "execution_count": null,
      "id": "a1692658",
      "metadata": {
        "id": "a1692658"
      },
      "outputs": [],
      "source": [
        "dataset_arr = dataset.to_numpy ().astype(np.float32 )\n",
        "X, y = dataset_arr [:, :-1] , dataset_arr [:, -1]"
      ]
    },
    {
      "cell_type": "code",
      "execution_count": null,
      "id": "cfdabb27",
      "metadata": {
        "id": "cfdabb27"
      },
      "outputs": [],
      "source": [
        "val_size = 0.1\n",
        "\n",
        "random_state = 2\n",
        "is_shuffle = True\n",
        "X_train , X_val , y_train , y_val = train_test_split (X , y,test_size = val_size ,random_state = random_state ,shuffle = is_shuffle)\n",
        "\n"
      ]
    },
    {
      "cell_type": "code",
      "execution_count": null,
      "id": "b2dcc617",
      "metadata": {
        "id": "b2dcc617"
      },
      "outputs": [],
      "source": [
        "X_train, y_train = torch.tensor(X_train, dtype=torch.float32), torch.tensor(y_train, dtype=torch.long)\n",
        "X_val, y_val = torch.tensor(X_val, dtype=torch.float32), torch.tensor(y_val, dtype=torch.long)\n"
      ]
    },
    {
      "cell_type": "code",
      "execution_count": null,
      "id": "5d3c3b14",
      "metadata": {
        "id": "5d3c3b14"
      },
      "outputs": [],
      "source": [
        "_MEAN = X_train.mean(axis=0)\n",
        "_STD = X_train.std(axis=0)\n",
        "\n",
        "\n",
        "X_train = ( X_train-_MEAN)/_STD\n",
        "X_val = ( X_val-_MEAN)/_STD"
      ]
    },
    {
      "cell_type": "code",
      "execution_count": null,
      "id": "9877c6ed",
      "metadata": {
        "id": "9877c6ed"
      },
      "outputs": [],
      "source": [
        "class CustomDataset(Dataset):\n",
        "    def __init__(self, X, y):\n",
        "        self.X = X\n",
        "        self.y = y\n",
        "\n",
        "    def __len__(self):\n",
        "        return len(self.y)\n",
        "\n",
        "    def __getitem__(self, idx):\n",
        "        # print(idx)\n",
        "        return self.X[idx], self.y[idx]"
      ]
    },
    {
      "cell_type": "code",
      "execution_count": null,
      "id": "9b45e713",
      "metadata": {
        "id": "9b45e713"
      },
      "outputs": [],
      "source": [
        "train_dataset = CustomDataset(X_train, y_train)\n",
        "val_dataset = CustomDataset(X_val, y_val)\n",
        "\n",
        "\n",
        "train_loader = DataLoader(train_dataset, batch_size=256, shuffle=True)\n",
        "val_loader = DataLoader(val_dataset, batch_size=256, shuffle=False)\n"
      ]
    },
    {
      "cell_type": "markdown",
      "id": "27105eca",
      "metadata": {
        "id": "27105eca"
      },
      "source": [
        "## Model"
      ]
    },
    {
      "cell_type": "code",
      "execution_count": null,
      "id": "c8701ce7",
      "metadata": {
        "id": "c8701ce7"
      },
      "outputs": [],
      "source": [
        "class MLP(nn.Module):\n",
        "    def __init__(self, input_dims, hidden_dims, output_dims):\n",
        "        super(MLP, self).__init__()\n",
        "        self.linear1 = nn.Linear(input_dims, hidden_dims)\n",
        "        self.linear2 = nn.Linear(hidden_dims, 128)\n",
        "        self.linear3 = nn.Linear(128, 64)\n",
        "        self.output = nn.Linear(64, output_dims)\n",
        "        self.batchnorm1 = nn.BatchNorm1d(hidden_dims)\n",
        "        self.batchnorm2 = nn.BatchNorm1d(128)\n",
        "        self.batchnorm3 = nn.BatchNorm1d(64)\n",
        "        self.dropout = nn.Dropout(0.3)\n",
        "        self.relu = nn.ReLU()\n",
        "\n",
        "    def forward(self, x):\n",
        "        x = self.linear1(x)\n",
        "        x = self.batchnorm1(x)\n",
        "        x = self.relu(x)\n",
        "        x = self.batchnorm1(x)\n",
        "        x = self.dropout(x)\n",
        "        x = self.linear2(x)\n",
        "        x = self. batchnorm2(x)\n",
        "        x = self.relu(x)\n",
        "        x = self.batchnorm2(x)\n",
        "        x = self.linear3(x)\n",
        "        x = self.relu(x)\n",
        "        x = self.batchnorm3(x)\n",
        "        out = self.output(x)\n",
        "        return out.squeeze(1)\n"
      ]
    },
    {
      "cell_type": "code",
      "execution_count": null,
      "id": "f17ee334",
      "metadata": {
        "id": "f17ee334"
      },
      "outputs": [],
      "source": [
        "model = MLP(11, 256, 2)\n"
      ]
    },
    {
      "cell_type": "markdown",
      "id": "d7247ae4",
      "metadata": {
        "id": "d7247ae4"
      },
      "source": [
        "## Loss, Optimizer, and Evaluation Function"
      ]
    },
    {
      "cell_type": "code",
      "execution_count": null,
      "id": "fd4c053e",
      "metadata": {
        "id": "fd4c053e"
      },
      "outputs": [],
      "source": [
        "criterion = nn.CrossEntropyLoss()\n",
        "optimizer = torch.optim.Adam(model.parameters(), lr=0.001, weight_decay = 5e-4)"
      ]
    },
    {
      "cell_type": "code",
      "execution_count": null,
      "id": "e903feed",
      "metadata": {
        "id": "e903feed"
      },
      "outputs": [],
      "source": [
        "# Function to compute loss and accuracy for test set\n",
        "def evaluate(model, testloader, criterion):\n",
        "    model.eval()\n",
        "    test_loss = 0.0\n",
        "    correct = 0\n",
        "    total = 0\n",
        "    with torch.no_grad():\n",
        "        for images, labels in testloader:\n",
        "            # Move inputs and labels to the device\n",
        "            images, labels = images.to(device), labels.to(device)\n",
        "\n",
        "            outputs = model(images)\n",
        "            loss = criterion(outputs, labels)\n",
        "            test_loss += loss.item()\n",
        "\n",
        "            _, predicted = torch.max(outputs.data, 1)\n",
        "            total += labels.size(0)\n",
        "            correct += (predicted == labels).sum().item()\n",
        "\n",
        "    accuracy = 100 * correct / total\n",
        "    test_loss = test_loss / len(testloader)\n",
        "    return test_loss, accuracy"
      ]
    },
    {
      "cell_type": "markdown",
      "id": "205f2923",
      "metadata": {
        "id": "205f2923"
      },
      "source": [
        "## Huấn luyện mô hình"
      ]
    },
    {
      "cell_type": "code",
      "execution_count": null,
      "id": "954666b1",
      "metadata": {
        "id": "954666b1"
      },
      "outputs": [],
      "source": [
        "# some parameter\n",
        "train_losses = []\n",
        "train_accuracies = []\n",
        "test_losses = []\n",
        "test_accuracies = []\n",
        "max_epoch = 300"
      ]
    },
    {
      "cell_type": "code",
      "execution_count": null,
      "id": "f82beb64",
      "metadata": {
        "colab": {
          "base_uri": "https://localhost:8080/"
        },
        "id": "f82beb64",
        "outputId": "cc05b1ba-0257-4aab-b3ea-44e1b670a900"
      },
      "outputs": [
        {
          "output_type": "stream",
          "name": "stdout",
          "text": [
            "Epoch [1/300], Loss: 0.5140, Accuracy: 73.02%, Test Loss: 0.6058, Test Accuracy: 86.55%\n",
            "Epoch [2/300], Loss: 0.5756, Accuracy: 84.13%, Test Loss: 0.5220, Test Accuracy: 87.39%\n",
            "Epoch [3/300], Loss: 0.4991, Accuracy: 84.59%, Test Loss: 0.4251, Test Accuracy: 85.71%\n",
            "Epoch [4/300], Loss: 0.4188, Accuracy: 84.87%, Test Loss: 0.3569, Test Accuracy: 85.71%\n",
            "Epoch [5/300], Loss: 0.3685, Accuracy: 84.50%, Test Loss: 0.3328, Test Accuracy: 85.71%\n",
            "Epoch [6/300], Loss: 0.3741, Accuracy: 84.69%, Test Loss: 0.3225, Test Accuracy: 85.71%\n",
            "Epoch [7/300], Loss: 0.3790, Accuracy: 84.97%, Test Loss: 0.3093, Test Accuracy: 87.39%\n",
            "Epoch [8/300], Loss: 0.3213, Accuracy: 85.81%, Test Loss: 0.3003, Test Accuracy: 89.08%\n",
            "Epoch [9/300], Loss: 0.3458, Accuracy: 85.99%, Test Loss: 0.2964, Test Accuracy: 89.08%\n",
            "Epoch [10/300], Loss: 0.3373, Accuracy: 87.02%, Test Loss: 0.2905, Test Accuracy: 89.08%\n",
            "Epoch [11/300], Loss: 0.3036, Accuracy: 88.05%, Test Loss: 0.2797, Test Accuracy: 87.39%\n",
            "Epoch [12/300], Loss: 0.2985, Accuracy: 88.24%, Test Loss: 0.2700, Test Accuracy: 88.24%\n",
            "Epoch [13/300], Loss: 0.2764, Accuracy: 88.14%, Test Loss: 0.2643, Test Accuracy: 87.39%\n",
            "Epoch [14/300], Loss: 0.2672, Accuracy: 88.14%, Test Loss: 0.2568, Test Accuracy: 87.39%\n",
            "Epoch [15/300], Loss: 0.2538, Accuracy: 89.36%, Test Loss: 0.2512, Test Accuracy: 88.24%\n",
            "Epoch [16/300], Loss: 0.2808, Accuracy: 89.64%, Test Loss: 0.2511, Test Accuracy: 89.08%\n",
            "Epoch [17/300], Loss: 0.2470, Accuracy: 90.10%, Test Loss: 0.2535, Test Accuracy: 89.08%\n",
            "Epoch [18/300], Loss: 0.2352, Accuracy: 90.29%, Test Loss: 0.2435, Test Accuracy: 89.08%\n",
            "Epoch [19/300], Loss: 0.2344, Accuracy: 90.20%, Test Loss: 0.2304, Test Accuracy: 89.92%\n",
            "Epoch [20/300], Loss: 0.2350, Accuracy: 91.13%, Test Loss: 0.2270, Test Accuracy: 89.08%\n",
            "Epoch [21/300], Loss: 0.2408, Accuracy: 91.22%, Test Loss: 0.2315, Test Accuracy: 88.24%\n",
            "Epoch [22/300], Loss: 0.1989, Accuracy: 92.16%, Test Loss: 0.2298, Test Accuracy: 89.92%\n",
            "Epoch [23/300], Loss: 0.1833, Accuracy: 92.53%, Test Loss: 0.2261, Test Accuracy: 88.24%\n",
            "Epoch [24/300], Loss: 0.1834, Accuracy: 92.34%, Test Loss: 0.2251, Test Accuracy: 89.92%\n",
            "Epoch [25/300], Loss: 0.1693, Accuracy: 93.00%, Test Loss: 0.2490, Test Accuracy: 89.08%\n",
            "Epoch [26/300], Loss: 0.1614, Accuracy: 93.46%, Test Loss: 0.2359, Test Accuracy: 89.08%\n",
            "Epoch [27/300], Loss: 0.1771, Accuracy: 94.40%, Test Loss: 0.2093, Test Accuracy: 90.76%\n",
            "Epoch [28/300], Loss: 0.1393, Accuracy: 94.30%, Test Loss: 0.2105, Test Accuracy: 90.76%\n",
            "Epoch [29/300], Loss: 0.1291, Accuracy: 95.52%, Test Loss: 0.2253, Test Accuracy: 90.76%\n",
            "Epoch [30/300], Loss: 0.1227, Accuracy: 95.89%, Test Loss: 0.2228, Test Accuracy: 90.76%\n",
            "Epoch [31/300], Loss: 0.1131, Accuracy: 96.45%, Test Loss: 0.2126, Test Accuracy: 93.28%\n",
            "Epoch [32/300], Loss: 0.1129, Accuracy: 97.29%, Test Loss: 0.1957, Test Accuracy: 94.12%\n",
            "Epoch [33/300], Loss: 0.1090, Accuracy: 97.01%, Test Loss: 0.2048, Test Accuracy: 93.28%\n",
            "Epoch [34/300], Loss: 0.1034, Accuracy: 96.73%, Test Loss: 0.2193, Test Accuracy: 91.60%\n",
            "Epoch [35/300], Loss: 0.0848, Accuracy: 98.04%, Test Loss: 0.2223, Test Accuracy: 91.60%\n",
            "Epoch [36/300], Loss: 0.0817, Accuracy: 97.67%, Test Loss: 0.2219, Test Accuracy: 93.28%\n",
            "Epoch [37/300], Loss: 0.0712, Accuracy: 98.13%, Test Loss: 0.2360, Test Accuracy: 92.44%\n",
            "Epoch [38/300], Loss: 0.0659, Accuracy: 97.85%, Test Loss: 0.2227, Test Accuracy: 94.96%\n",
            "Epoch [39/300], Loss: 0.0615, Accuracy: 98.60%, Test Loss: 0.2049, Test Accuracy: 94.12%\n",
            "Epoch [40/300], Loss: 0.0530, Accuracy: 98.60%, Test Loss: 0.2105, Test Accuracy: 93.28%\n",
            "Epoch [41/300], Loss: 0.0521, Accuracy: 98.88%, Test Loss: 0.2400, Test Accuracy: 94.12%\n",
            "Epoch [42/300], Loss: 0.0520, Accuracy: 98.88%, Test Loss: 0.2552, Test Accuracy: 94.12%\n",
            "Epoch [43/300], Loss: 0.0676, Accuracy: 98.97%, Test Loss: 0.2665, Test Accuracy: 93.28%\n",
            "Epoch [44/300], Loss: 0.0464, Accuracy: 98.97%, Test Loss: 0.2352, Test Accuracy: 92.44%\n",
            "Epoch [45/300], Loss: 0.0491, Accuracy: 98.88%, Test Loss: 0.2310, Test Accuracy: 92.44%\n",
            "Epoch [46/300], Loss: 0.0351, Accuracy: 99.16%, Test Loss: 0.2742, Test Accuracy: 94.12%\n",
            "Epoch [47/300], Loss: 0.0356, Accuracy: 99.35%, Test Loss: 0.3160, Test Accuracy: 93.28%\n",
            "Epoch [48/300], Loss: 0.0319, Accuracy: 99.35%, Test Loss: 0.2573, Test Accuracy: 94.12%\n",
            "Epoch [49/300], Loss: 0.0334, Accuracy: 99.07%, Test Loss: 0.2542, Test Accuracy: 92.44%\n",
            "Epoch [50/300], Loss: 0.0230, Accuracy: 99.35%, Test Loss: 0.2873, Test Accuracy: 92.44%\n",
            "Epoch [51/300], Loss: 0.0275, Accuracy: 99.63%, Test Loss: 0.2830, Test Accuracy: 92.44%\n",
            "Epoch [52/300], Loss: 0.0183, Accuracy: 99.72%, Test Loss: 0.2859, Test Accuracy: 92.44%\n",
            "Epoch [53/300], Loss: 0.0150, Accuracy: 99.91%, Test Loss: 0.2824, Test Accuracy: 92.44%\n",
            "Epoch [54/300], Loss: 0.0156, Accuracy: 100.00%, Test Loss: 0.2778, Test Accuracy: 92.44%\n",
            "Epoch [55/300], Loss: 0.0130, Accuracy: 99.81%, Test Loss: 0.2833, Test Accuracy: 92.44%\n",
            "Epoch [56/300], Loss: 0.0111, Accuracy: 100.00%, Test Loss: 0.2979, Test Accuracy: 92.44%\n",
            "Epoch [57/300], Loss: 0.0106, Accuracy: 100.00%, Test Loss: 0.3154, Test Accuracy: 92.44%\n",
            "Epoch [58/300], Loss: 0.0094, Accuracy: 100.00%, Test Loss: 0.3096, Test Accuracy: 92.44%\n",
            "Epoch [59/300], Loss: 0.0079, Accuracy: 100.00%, Test Loss: 0.2964, Test Accuracy: 92.44%\n",
            "Epoch [60/300], Loss: 0.0078, Accuracy: 100.00%, Test Loss: 0.2989, Test Accuracy: 92.44%\n",
            "Epoch [61/300], Loss: 0.0068, Accuracy: 100.00%, Test Loss: 0.3053, Test Accuracy: 93.28%\n",
            "Epoch [62/300], Loss: 0.0063, Accuracy: 100.00%, Test Loss: 0.3076, Test Accuracy: 93.28%\n",
            "Epoch [63/300], Loss: 0.0071, Accuracy: 100.00%, Test Loss: 0.3076, Test Accuracy: 92.44%\n",
            "Epoch [64/300], Loss: 0.0068, Accuracy: 100.00%, Test Loss: 0.3146, Test Accuracy: 92.44%\n",
            "Epoch [65/300], Loss: 0.0064, Accuracy: 100.00%, Test Loss: 0.3104, Test Accuracy: 92.44%\n",
            "Epoch [66/300], Loss: 0.0068, Accuracy: 100.00%, Test Loss: 0.3162, Test Accuracy: 92.44%\n",
            "Epoch [67/300], Loss: 0.0057, Accuracy: 100.00%, Test Loss: 0.3191, Test Accuracy: 92.44%\n",
            "Epoch [68/300], Loss: 0.0069, Accuracy: 100.00%, Test Loss: 0.3123, Test Accuracy: 92.44%\n",
            "Epoch [69/300], Loss: 0.0056, Accuracy: 100.00%, Test Loss: 0.3173, Test Accuracy: 92.44%\n",
            "Epoch [70/300], Loss: 0.0048, Accuracy: 100.00%, Test Loss: 0.3222, Test Accuracy: 92.44%\n",
            "Epoch [71/300], Loss: 0.0052, Accuracy: 100.00%, Test Loss: 0.3180, Test Accuracy: 92.44%\n",
            "Epoch [72/300], Loss: 0.0050, Accuracy: 100.00%, Test Loss: 0.3167, Test Accuracy: 92.44%\n",
            "Epoch [73/300], Loss: 0.0043, Accuracy: 100.00%, Test Loss: 0.3208, Test Accuracy: 92.44%\n",
            "Epoch [74/300], Loss: 0.0046, Accuracy: 100.00%, Test Loss: 0.3234, Test Accuracy: 92.44%\n",
            "Epoch [75/300], Loss: 0.0044, Accuracy: 100.00%, Test Loss: 0.3253, Test Accuracy: 92.44%\n",
            "Epoch [76/300], Loss: 0.0041, Accuracy: 100.00%, Test Loss: 0.3228, Test Accuracy: 92.44%\n",
            "Epoch [77/300], Loss: 0.0040, Accuracy: 100.00%, Test Loss: 0.3202, Test Accuracy: 92.44%\n",
            "Epoch [78/300], Loss: 0.0042, Accuracy: 100.00%, Test Loss: 0.3242, Test Accuracy: 92.44%\n",
            "Epoch [79/300], Loss: 0.0034, Accuracy: 100.00%, Test Loss: 0.3256, Test Accuracy: 92.44%\n",
            "Epoch [80/300], Loss: 0.0041, Accuracy: 100.00%, Test Loss: 0.3363, Test Accuracy: 92.44%\n",
            "Epoch [81/300], Loss: 0.0036, Accuracy: 100.00%, Test Loss: 0.3409, Test Accuracy: 92.44%\n",
            "Epoch [82/300], Loss: 0.0042, Accuracy: 100.00%, Test Loss: 0.3293, Test Accuracy: 92.44%\n",
            "Epoch [83/300], Loss: 0.0035, Accuracy: 100.00%, Test Loss: 0.3323, Test Accuracy: 92.44%\n",
            "Epoch [84/300], Loss: 0.0035, Accuracy: 100.00%, Test Loss: 0.3279, Test Accuracy: 92.44%\n",
            "Epoch [85/300], Loss: 0.0030, Accuracy: 100.00%, Test Loss: 0.3177, Test Accuracy: 92.44%\n",
            "Epoch [86/300], Loss: 0.0033, Accuracy: 100.00%, Test Loss: 0.3185, Test Accuracy: 92.44%\n",
            "Epoch [87/300], Loss: 0.0030, Accuracy: 100.00%, Test Loss: 0.3229, Test Accuracy: 92.44%\n",
            "Epoch [88/300], Loss: 0.0029, Accuracy: 100.00%, Test Loss: 0.3264, Test Accuracy: 92.44%\n",
            "Epoch [89/300], Loss: 0.0027, Accuracy: 100.00%, Test Loss: 0.3252, Test Accuracy: 92.44%\n",
            "Epoch [90/300], Loss: 0.0027, Accuracy: 100.00%, Test Loss: 0.3227, Test Accuracy: 92.44%\n",
            "Epoch [91/300], Loss: 0.0027, Accuracy: 100.00%, Test Loss: 0.3255, Test Accuracy: 92.44%\n",
            "Epoch [92/300], Loss: 0.0029, Accuracy: 100.00%, Test Loss: 0.3214, Test Accuracy: 92.44%\n",
            "Epoch [93/300], Loss: 0.0027, Accuracy: 100.00%, Test Loss: 0.3127, Test Accuracy: 92.44%\n",
            "Epoch [94/300], Loss: 0.0030, Accuracy: 100.00%, Test Loss: 0.3165, Test Accuracy: 92.44%\n",
            "Epoch [95/300], Loss: 0.0028, Accuracy: 100.00%, Test Loss: 0.3235, Test Accuracy: 92.44%\n",
            "Epoch [96/300], Loss: 0.0027, Accuracy: 100.00%, Test Loss: 0.3263, Test Accuracy: 92.44%\n",
            "Epoch [97/300], Loss: 0.0030, Accuracy: 100.00%, Test Loss: 0.3278, Test Accuracy: 92.44%\n",
            "Epoch [98/300], Loss: 0.0031, Accuracy: 100.00%, Test Loss: 0.3229, Test Accuracy: 92.44%\n",
            "Epoch [99/300], Loss: 0.0028, Accuracy: 100.00%, Test Loss: 0.3197, Test Accuracy: 92.44%\n",
            "Epoch [100/300], Loss: 0.0030, Accuracy: 100.00%, Test Loss: 0.3150, Test Accuracy: 92.44%\n",
            "Epoch [101/300], Loss: 0.0028, Accuracy: 100.00%, Test Loss: 0.3111, Test Accuracy: 92.44%\n",
            "Epoch [102/300], Loss: 0.0028, Accuracy: 100.00%, Test Loss: 0.3139, Test Accuracy: 92.44%\n",
            "Epoch [103/300], Loss: 0.0028, Accuracy: 100.00%, Test Loss: 0.3135, Test Accuracy: 92.44%\n",
            "Epoch [104/300], Loss: 0.0031, Accuracy: 100.00%, Test Loss: 0.3100, Test Accuracy: 92.44%\n",
            "Epoch [105/300], Loss: 0.0028, Accuracy: 100.00%, Test Loss: 0.3119, Test Accuracy: 92.44%\n",
            "Epoch [106/300], Loss: 0.0027, Accuracy: 100.00%, Test Loss: 0.3188, Test Accuracy: 92.44%\n",
            "Epoch [107/300], Loss: 0.0028, Accuracy: 100.00%, Test Loss: 0.3170, Test Accuracy: 92.44%\n",
            "Epoch [108/300], Loss: 0.0029, Accuracy: 100.00%, Test Loss: 0.3130, Test Accuracy: 92.44%\n",
            "Epoch [109/300], Loss: 0.0028, Accuracy: 100.00%, Test Loss: 0.3145, Test Accuracy: 92.44%\n",
            "Epoch [110/300], Loss: 0.0027, Accuracy: 100.00%, Test Loss: 0.3120, Test Accuracy: 92.44%\n",
            "Epoch [111/300], Loss: 0.0028, Accuracy: 100.00%, Test Loss: 0.3109, Test Accuracy: 92.44%\n",
            "Epoch [112/300], Loss: 0.0026, Accuracy: 100.00%, Test Loss: 0.3124, Test Accuracy: 92.44%\n",
            "Epoch [113/300], Loss: 0.0027, Accuracy: 100.00%, Test Loss: 0.3076, Test Accuracy: 92.44%\n",
            "Epoch [114/300], Loss: 0.0023, Accuracy: 100.00%, Test Loss: 0.3019, Test Accuracy: 92.44%\n",
            "Epoch [115/300], Loss: 0.0028, Accuracy: 100.00%, Test Loss: 0.3043, Test Accuracy: 92.44%\n",
            "Epoch [116/300], Loss: 0.0025, Accuracy: 100.00%, Test Loss: 0.3031, Test Accuracy: 92.44%\n",
            "Epoch [117/300], Loss: 0.0028, Accuracy: 100.00%, Test Loss: 0.3016, Test Accuracy: 92.44%\n",
            "Epoch [118/300], Loss: 0.0026, Accuracy: 100.00%, Test Loss: 0.3034, Test Accuracy: 92.44%\n",
            "Epoch [119/300], Loss: 0.0024, Accuracy: 100.00%, Test Loss: 0.3077, Test Accuracy: 92.44%\n",
            "Epoch [120/300], Loss: 0.0028, Accuracy: 100.00%, Test Loss: 0.3079, Test Accuracy: 92.44%\n",
            "Epoch [121/300], Loss: 0.0026, Accuracy: 100.00%, Test Loss: 0.3039, Test Accuracy: 92.44%\n",
            "Epoch [122/300], Loss: 0.0028, Accuracy: 100.00%, Test Loss: 0.3015, Test Accuracy: 92.44%\n",
            "Epoch [123/300], Loss: 0.0028, Accuracy: 100.00%, Test Loss: 0.2992, Test Accuracy: 93.28%\n",
            "Epoch [124/300], Loss: 0.0026, Accuracy: 100.00%, Test Loss: 0.2961, Test Accuracy: 92.44%\n",
            "Epoch [125/300], Loss: 0.0028, Accuracy: 100.00%, Test Loss: 0.3001, Test Accuracy: 92.44%\n",
            "Epoch [126/300], Loss: 0.0030, Accuracy: 100.00%, Test Loss: 0.3037, Test Accuracy: 92.44%\n",
            "Epoch [127/300], Loss: 0.0039, Accuracy: 100.00%, Test Loss: 0.2953, Test Accuracy: 93.28%\n",
            "Epoch [128/300], Loss: 0.0039, Accuracy: 100.00%, Test Loss: 0.2909, Test Accuracy: 92.44%\n",
            "Epoch [129/300], Loss: 0.0032, Accuracy: 100.00%, Test Loss: 0.2872, Test Accuracy: 92.44%\n",
            "Epoch [130/300], Loss: 0.0030, Accuracy: 100.00%, Test Loss: 0.3028, Test Accuracy: 93.28%\n",
            "Epoch [131/300], Loss: 0.0033, Accuracy: 100.00%, Test Loss: 0.3037, Test Accuracy: 93.28%\n",
            "Epoch [132/300], Loss: 0.0027, Accuracy: 100.00%, Test Loss: 0.3013, Test Accuracy: 92.44%\n",
            "Epoch [133/300], Loss: 0.0035, Accuracy: 100.00%, Test Loss: 0.3026, Test Accuracy: 93.28%\n",
            "Epoch [134/300], Loss: 0.0027, Accuracy: 100.00%, Test Loss: 0.3015, Test Accuracy: 93.28%\n",
            "Epoch [135/300], Loss: 0.0031, Accuracy: 100.00%, Test Loss: 0.2968, Test Accuracy: 93.28%\n",
            "Epoch [136/300], Loss: 0.0027, Accuracy: 100.00%, Test Loss: 0.3012, Test Accuracy: 92.44%\n",
            "Epoch [137/300], Loss: 0.0027, Accuracy: 100.00%, Test Loss: 0.3040, Test Accuracy: 93.28%\n",
            "Epoch [138/300], Loss: 0.0027, Accuracy: 100.00%, Test Loss: 0.3031, Test Accuracy: 93.28%\n",
            "Epoch [139/300], Loss: 0.0028, Accuracy: 100.00%, Test Loss: 0.3029, Test Accuracy: 93.28%\n",
            "Epoch [140/300], Loss: 0.0027, Accuracy: 100.00%, Test Loss: 0.3042, Test Accuracy: 93.28%\n",
            "Epoch [141/300], Loss: 0.0027, Accuracy: 100.00%, Test Loss: 0.3066, Test Accuracy: 93.28%\n",
            "Epoch [142/300], Loss: 0.0025, Accuracy: 100.00%, Test Loss: 0.2998, Test Accuracy: 93.28%\n",
            "Epoch [143/300], Loss: 0.0026, Accuracy: 100.00%, Test Loss: 0.3008, Test Accuracy: 93.28%\n",
            "Epoch [144/300], Loss: 0.0026, Accuracy: 100.00%, Test Loss: 0.2995, Test Accuracy: 93.28%\n",
            "Epoch [145/300], Loss: 0.0025, Accuracy: 100.00%, Test Loss: 0.2919, Test Accuracy: 93.28%\n",
            "Epoch [146/300], Loss: 0.0026, Accuracy: 100.00%, Test Loss: 0.2907, Test Accuracy: 93.28%\n",
            "Epoch [147/300], Loss: 0.0025, Accuracy: 100.00%, Test Loss: 0.2892, Test Accuracy: 93.28%\n",
            "Epoch [148/300], Loss: 0.0025, Accuracy: 100.00%, Test Loss: 0.2884, Test Accuracy: 93.28%\n",
            "Epoch [149/300], Loss: 0.0025, Accuracy: 100.00%, Test Loss: 0.2884, Test Accuracy: 93.28%\n",
            "Epoch [150/300], Loss: 0.0024, Accuracy: 100.00%, Test Loss: 0.2896, Test Accuracy: 93.28%\n",
            "Epoch [151/300], Loss: 0.0025, Accuracy: 100.00%, Test Loss: 0.2867, Test Accuracy: 93.28%\n",
            "Epoch [152/300], Loss: 0.0024, Accuracy: 100.00%, Test Loss: 0.2920, Test Accuracy: 93.28%\n",
            "Epoch [153/300], Loss: 0.0027, Accuracy: 100.00%, Test Loss: 0.2953, Test Accuracy: 93.28%\n",
            "Epoch [154/300], Loss: 0.0026, Accuracy: 100.00%, Test Loss: 0.2933, Test Accuracy: 93.28%\n",
            "Epoch [155/300], Loss: 0.0026, Accuracy: 100.00%, Test Loss: 0.2877, Test Accuracy: 93.28%\n",
            "Epoch [156/300], Loss: 0.0028, Accuracy: 100.00%, Test Loss: 0.2888, Test Accuracy: 93.28%\n",
            "Epoch [157/300], Loss: 0.0030, Accuracy: 100.00%, Test Loss: 0.2880, Test Accuracy: 93.28%\n",
            "Epoch [158/300], Loss: 0.0027, Accuracy: 100.00%, Test Loss: 0.2905, Test Accuracy: 92.44%\n",
            "Epoch [159/300], Loss: 0.0027, Accuracy: 100.00%, Test Loss: 0.2883, Test Accuracy: 93.28%\n",
            "Epoch [160/300], Loss: 0.0025, Accuracy: 100.00%, Test Loss: 0.2859, Test Accuracy: 93.28%\n",
            "Epoch [161/300], Loss: 0.0028, Accuracy: 100.00%, Test Loss: 0.2890, Test Accuracy: 93.28%\n",
            "Epoch [162/300], Loss: 0.0028, Accuracy: 100.00%, Test Loss: 0.2919, Test Accuracy: 93.28%\n",
            "Epoch [163/300], Loss: 0.0028, Accuracy: 100.00%, Test Loss: 0.2938, Test Accuracy: 93.28%\n",
            "Epoch [164/300], Loss: 0.0026, Accuracy: 100.00%, Test Loss: 0.2944, Test Accuracy: 94.12%\n",
            "Epoch [165/300], Loss: 0.0028, Accuracy: 100.00%, Test Loss: 0.2932, Test Accuracy: 93.28%\n",
            "Epoch [166/300], Loss: 0.0027, Accuracy: 100.00%, Test Loss: 0.2877, Test Accuracy: 93.28%\n",
            "Epoch [167/300], Loss: 0.0029, Accuracy: 100.00%, Test Loss: 0.2869, Test Accuracy: 93.28%\n",
            "Epoch [168/300], Loss: 0.0027, Accuracy: 100.00%, Test Loss: 0.2891, Test Accuracy: 93.28%\n",
            "Epoch [169/300], Loss: 0.0027, Accuracy: 100.00%, Test Loss: 0.2903, Test Accuracy: 93.28%\n",
            "Epoch [170/300], Loss: 0.0026, Accuracy: 100.00%, Test Loss: 0.2891, Test Accuracy: 93.28%\n",
            "Epoch [171/300], Loss: 0.0027, Accuracy: 100.00%, Test Loss: 0.2902, Test Accuracy: 93.28%\n",
            "Epoch [172/300], Loss: 0.0027, Accuracy: 100.00%, Test Loss: 0.2838, Test Accuracy: 93.28%\n",
            "Epoch [173/300], Loss: 0.0029, Accuracy: 100.00%, Test Loss: 0.2825, Test Accuracy: 93.28%\n",
            "Epoch [174/300], Loss: 0.0029, Accuracy: 100.00%, Test Loss: 0.2850, Test Accuracy: 92.44%\n",
            "Epoch [175/300], Loss: 0.0031, Accuracy: 100.00%, Test Loss: 0.2884, Test Accuracy: 92.44%\n",
            "Epoch [176/300], Loss: 0.0027, Accuracy: 100.00%, Test Loss: 0.3061, Test Accuracy: 92.44%\n",
            "Epoch [177/300], Loss: 0.0030, Accuracy: 100.00%, Test Loss: 0.3049, Test Accuracy: 94.12%\n",
            "Epoch [178/300], Loss: 0.0028, Accuracy: 100.00%, Test Loss: 0.2978, Test Accuracy: 94.12%\n",
            "Epoch [179/300], Loss: 0.0029, Accuracy: 100.00%, Test Loss: 0.2963, Test Accuracy: 94.12%\n",
            "Epoch [180/300], Loss: 0.0026, Accuracy: 100.00%, Test Loss: 0.2923, Test Accuracy: 92.44%\n",
            "Epoch [181/300], Loss: 0.0028, Accuracy: 100.00%, Test Loss: 0.2832, Test Accuracy: 93.28%\n",
            "Epoch [182/300], Loss: 0.0027, Accuracy: 100.00%, Test Loss: 0.2796, Test Accuracy: 93.28%\n",
            "Epoch [183/300], Loss: 0.0027, Accuracy: 100.00%, Test Loss: 0.2897, Test Accuracy: 94.12%\n",
            "Epoch [184/300], Loss: 0.0029, Accuracy: 100.00%, Test Loss: 0.2923, Test Accuracy: 94.12%\n",
            "Epoch [185/300], Loss: 0.0025, Accuracy: 100.00%, Test Loss: 0.2914, Test Accuracy: 93.28%\n",
            "Epoch [186/300], Loss: 0.0029, Accuracy: 100.00%, Test Loss: 0.2939, Test Accuracy: 93.28%\n",
            "Epoch [187/300], Loss: 0.0028, Accuracy: 100.00%, Test Loss: 0.2979, Test Accuracy: 94.12%\n",
            "Epoch [188/300], Loss: 0.0029, Accuracy: 100.00%, Test Loss: 0.2890, Test Accuracy: 94.12%\n",
            "Epoch [189/300], Loss: 0.0030, Accuracy: 100.00%, Test Loss: 0.2843, Test Accuracy: 93.28%\n",
            "Epoch [190/300], Loss: 0.0027, Accuracy: 100.00%, Test Loss: 0.2948, Test Accuracy: 93.28%\n",
            "Epoch [191/300], Loss: 0.0028, Accuracy: 100.00%, Test Loss: 0.2884, Test Accuracy: 93.28%\n",
            "Epoch [192/300], Loss: 0.0028, Accuracy: 100.00%, Test Loss: 0.2829, Test Accuracy: 93.28%\n",
            "Epoch [193/300], Loss: 0.0028, Accuracy: 100.00%, Test Loss: 0.2772, Test Accuracy: 93.28%\n",
            "Epoch [194/300], Loss: 0.0026, Accuracy: 100.00%, Test Loss: 0.2754, Test Accuracy: 93.28%\n",
            "Epoch [195/300], Loss: 0.0029, Accuracy: 100.00%, Test Loss: 0.2811, Test Accuracy: 93.28%\n",
            "Epoch [196/300], Loss: 0.0029, Accuracy: 100.00%, Test Loss: 0.2847, Test Accuracy: 93.28%\n",
            "Epoch [197/300], Loss: 0.0027, Accuracy: 100.00%, Test Loss: 0.2815, Test Accuracy: 94.12%\n",
            "Epoch [198/300], Loss: 0.0032, Accuracy: 100.00%, Test Loss: 0.2888, Test Accuracy: 94.12%\n",
            "Epoch [199/300], Loss: 0.0029, Accuracy: 100.00%, Test Loss: 0.2964, Test Accuracy: 93.28%\n",
            "Epoch [200/300], Loss: 0.0029, Accuracy: 100.00%, Test Loss: 0.2842, Test Accuracy: 94.12%\n",
            "Epoch [201/300], Loss: 0.0029, Accuracy: 100.00%, Test Loss: 0.2846, Test Accuracy: 93.28%\n",
            "Epoch [202/300], Loss: 0.0029, Accuracy: 100.00%, Test Loss: 0.2884, Test Accuracy: 93.28%\n",
            "Epoch [203/300], Loss: 0.0026, Accuracy: 100.00%, Test Loss: 0.2848, Test Accuracy: 93.28%\n",
            "Epoch [204/300], Loss: 0.0033, Accuracy: 100.00%, Test Loss: 0.2853, Test Accuracy: 93.28%\n",
            "Epoch [205/300], Loss: 0.0027, Accuracy: 100.00%, Test Loss: 0.2908, Test Accuracy: 92.44%\n",
            "Epoch [206/300], Loss: 0.0027, Accuracy: 100.00%, Test Loss: 0.2861, Test Accuracy: 93.28%\n",
            "Epoch [207/300], Loss: 0.0029, Accuracy: 100.00%, Test Loss: 0.2847, Test Accuracy: 93.28%\n",
            "Epoch [208/300], Loss: 0.0025, Accuracy: 100.00%, Test Loss: 0.2761, Test Accuracy: 93.28%\n",
            "Epoch [209/300], Loss: 0.0025, Accuracy: 100.00%, Test Loss: 0.2738, Test Accuracy: 93.28%\n",
            "Epoch [210/300], Loss: 0.0027, Accuracy: 100.00%, Test Loss: 0.2769, Test Accuracy: 93.28%\n",
            "Epoch [211/300], Loss: 0.0028, Accuracy: 100.00%, Test Loss: 0.2812, Test Accuracy: 93.28%\n",
            "Epoch [212/300], Loss: 0.0030, Accuracy: 100.00%, Test Loss: 0.2816, Test Accuracy: 94.12%\n",
            "Epoch [213/300], Loss: 0.0029, Accuracy: 100.00%, Test Loss: 0.2824, Test Accuracy: 94.12%\n",
            "Epoch [214/300], Loss: 0.0027, Accuracy: 100.00%, Test Loss: 0.2794, Test Accuracy: 93.28%\n",
            "Epoch [215/300], Loss: 0.0029, Accuracy: 100.00%, Test Loss: 0.2858, Test Accuracy: 93.28%\n",
            "Epoch [216/300], Loss: 0.0026, Accuracy: 100.00%, Test Loss: 0.2832, Test Accuracy: 93.28%\n",
            "Epoch [217/300], Loss: 0.0029, Accuracy: 100.00%, Test Loss: 0.2856, Test Accuracy: 93.28%\n",
            "Epoch [218/300], Loss: 0.0029, Accuracy: 100.00%, Test Loss: 0.2821, Test Accuracy: 94.12%\n",
            "Epoch [219/300], Loss: 0.0028, Accuracy: 100.00%, Test Loss: 0.2833, Test Accuracy: 94.12%\n",
            "Epoch [220/300], Loss: 0.0024, Accuracy: 100.00%, Test Loss: 0.2826, Test Accuracy: 94.12%\n",
            "Epoch [221/300], Loss: 0.0024, Accuracy: 100.00%, Test Loss: 0.2815, Test Accuracy: 94.12%\n",
            "Epoch [222/300], Loss: 0.0025, Accuracy: 100.00%, Test Loss: 0.2835, Test Accuracy: 93.28%\n",
            "Epoch [223/300], Loss: 0.0027, Accuracy: 100.00%, Test Loss: 0.2825, Test Accuracy: 93.28%\n",
            "Epoch [224/300], Loss: 0.0025, Accuracy: 100.00%, Test Loss: 0.2857, Test Accuracy: 94.12%\n",
            "Epoch [225/300], Loss: 0.0024, Accuracy: 100.00%, Test Loss: 0.2917, Test Accuracy: 94.12%\n",
            "Epoch [226/300], Loss: 0.0024, Accuracy: 100.00%, Test Loss: 0.2924, Test Accuracy: 93.28%\n",
            "Epoch [227/300], Loss: 0.0024, Accuracy: 100.00%, Test Loss: 0.2890, Test Accuracy: 93.28%\n",
            "Epoch [228/300], Loss: 0.0029, Accuracy: 100.00%, Test Loss: 0.2865, Test Accuracy: 94.12%\n",
            "Epoch [229/300], Loss: 0.0026, Accuracy: 100.00%, Test Loss: 0.2882, Test Accuracy: 94.12%\n",
            "Epoch [230/300], Loss: 0.0027, Accuracy: 100.00%, Test Loss: 0.2828, Test Accuracy: 93.28%\n",
            "Epoch [231/300], Loss: 0.0026, Accuracy: 100.00%, Test Loss: 0.2760, Test Accuracy: 93.28%\n",
            "Epoch [232/300], Loss: 0.0027, Accuracy: 100.00%, Test Loss: 0.2766, Test Accuracy: 93.28%\n",
            "Epoch [233/300], Loss: 0.0030, Accuracy: 100.00%, Test Loss: 0.2804, Test Accuracy: 93.28%\n",
            "Epoch [234/300], Loss: 0.0027, Accuracy: 100.00%, Test Loss: 0.2771, Test Accuracy: 93.28%\n",
            "Epoch [235/300], Loss: 0.0027, Accuracy: 100.00%, Test Loss: 0.2809, Test Accuracy: 93.28%\n",
            "Epoch [236/300], Loss: 0.0028, Accuracy: 100.00%, Test Loss: 0.2841, Test Accuracy: 94.12%\n",
            "Epoch [237/300], Loss: 0.0032, Accuracy: 100.00%, Test Loss: 0.2776, Test Accuracy: 93.28%\n",
            "Epoch [238/300], Loss: 0.0030, Accuracy: 100.00%, Test Loss: 0.2798, Test Accuracy: 92.44%\n",
            "Epoch [239/300], Loss: 0.0029, Accuracy: 100.00%, Test Loss: 0.2835, Test Accuracy: 92.44%\n",
            "Epoch [240/300], Loss: 0.0027, Accuracy: 100.00%, Test Loss: 0.2909, Test Accuracy: 94.12%\n",
            "Epoch [241/300], Loss: 0.0028, Accuracy: 100.00%, Test Loss: 0.2967, Test Accuracy: 94.12%\n",
            "Epoch [242/300], Loss: 0.0024, Accuracy: 100.00%, Test Loss: 0.2950, Test Accuracy: 94.12%\n",
            "Epoch [243/300], Loss: 0.0026, Accuracy: 100.00%, Test Loss: 0.2842, Test Accuracy: 94.12%\n",
            "Epoch [244/300], Loss: 0.0025, Accuracy: 100.00%, Test Loss: 0.2811, Test Accuracy: 93.28%\n",
            "Epoch [245/300], Loss: 0.0028, Accuracy: 100.00%, Test Loss: 0.2827, Test Accuracy: 93.28%\n",
            "Epoch [246/300], Loss: 0.0026, Accuracy: 100.00%, Test Loss: 0.2783, Test Accuracy: 93.28%\n",
            "Epoch [247/300], Loss: 0.0029, Accuracy: 100.00%, Test Loss: 0.2803, Test Accuracy: 94.12%\n",
            "Epoch [248/300], Loss: 0.0026, Accuracy: 100.00%, Test Loss: 0.2878, Test Accuracy: 94.12%\n",
            "Epoch [249/300], Loss: 0.0025, Accuracy: 100.00%, Test Loss: 0.2784, Test Accuracy: 94.12%\n",
            "Epoch [250/300], Loss: 0.0028, Accuracy: 100.00%, Test Loss: 0.2765, Test Accuracy: 94.12%\n",
            "Epoch [251/300], Loss: 0.0029, Accuracy: 100.00%, Test Loss: 0.2782, Test Accuracy: 93.28%\n",
            "Epoch [252/300], Loss: 0.0025, Accuracy: 100.00%, Test Loss: 0.2828, Test Accuracy: 94.12%\n",
            "Epoch [253/300], Loss: 0.0027, Accuracy: 100.00%, Test Loss: 0.2878, Test Accuracy: 93.28%\n",
            "Epoch [254/300], Loss: 0.0027, Accuracy: 100.00%, Test Loss: 0.2825, Test Accuracy: 94.12%\n",
            "Epoch [255/300], Loss: 0.0029, Accuracy: 100.00%, Test Loss: 0.2814, Test Accuracy: 93.28%\n",
            "Epoch [256/300], Loss: 0.0026, Accuracy: 100.00%, Test Loss: 0.2769, Test Accuracy: 93.28%\n",
            "Epoch [257/300], Loss: 0.0031, Accuracy: 100.00%, Test Loss: 0.2802, Test Accuracy: 93.28%\n",
            "Epoch [258/300], Loss: 0.0025, Accuracy: 100.00%, Test Loss: 0.2871, Test Accuracy: 94.12%\n",
            "Epoch [259/300], Loss: 0.0026, Accuracy: 100.00%, Test Loss: 0.2917, Test Accuracy: 94.12%\n",
            "Epoch [260/300], Loss: 0.0026, Accuracy: 100.00%, Test Loss: 0.2872, Test Accuracy: 94.12%\n",
            "Epoch [261/300], Loss: 0.0024, Accuracy: 100.00%, Test Loss: 0.2815, Test Accuracy: 94.12%\n",
            "Epoch [262/300], Loss: 0.0024, Accuracy: 100.00%, Test Loss: 0.2804, Test Accuracy: 93.28%\n",
            "Epoch [263/300], Loss: 0.0024, Accuracy: 100.00%, Test Loss: 0.2804, Test Accuracy: 93.28%\n",
            "Epoch [264/300], Loss: 0.0026, Accuracy: 100.00%, Test Loss: 0.2856, Test Accuracy: 94.12%\n",
            "Epoch [265/300], Loss: 0.0026, Accuracy: 100.00%, Test Loss: 0.2909, Test Accuracy: 94.12%\n",
            "Epoch [266/300], Loss: 0.0027, Accuracy: 100.00%, Test Loss: 0.2878, Test Accuracy: 94.12%\n",
            "Epoch [267/300], Loss: 0.0025, Accuracy: 100.00%, Test Loss: 0.2816, Test Accuracy: 94.12%\n",
            "Epoch [268/300], Loss: 0.0023, Accuracy: 100.00%, Test Loss: 0.2825, Test Accuracy: 94.12%\n",
            "Epoch [269/300], Loss: 0.0025, Accuracy: 100.00%, Test Loss: 0.2822, Test Accuracy: 93.28%\n",
            "Epoch [270/300], Loss: 0.0032, Accuracy: 100.00%, Test Loss: 0.2872, Test Accuracy: 94.12%\n",
            "Epoch [271/300], Loss: 0.0037, Accuracy: 100.00%, Test Loss: 0.2934, Test Accuracy: 92.44%\n",
            "Epoch [272/300], Loss: 0.0032, Accuracy: 100.00%, Test Loss: 0.2781, Test Accuracy: 94.12%\n",
            "Epoch [273/300], Loss: 0.0027, Accuracy: 100.00%, Test Loss: 0.2790, Test Accuracy: 94.12%\n",
            "Epoch [274/300], Loss: 0.0025, Accuracy: 100.00%, Test Loss: 0.2878, Test Accuracy: 94.12%\n",
            "Epoch [275/300], Loss: 0.0026, Accuracy: 100.00%, Test Loss: 0.2838, Test Accuracy: 93.28%\n",
            "Epoch [276/300], Loss: 0.0024, Accuracy: 100.00%, Test Loss: 0.2811, Test Accuracy: 92.44%\n",
            "Epoch [277/300], Loss: 0.0026, Accuracy: 100.00%, Test Loss: 0.2861, Test Accuracy: 93.28%\n",
            "Epoch [278/300], Loss: 0.0025, Accuracy: 100.00%, Test Loss: 0.2919, Test Accuracy: 93.28%\n",
            "Epoch [279/300], Loss: 0.0026, Accuracy: 100.00%, Test Loss: 0.2919, Test Accuracy: 93.28%\n",
            "Epoch [280/300], Loss: 0.0025, Accuracy: 100.00%, Test Loss: 0.2893, Test Accuracy: 93.28%\n",
            "Epoch [281/300], Loss: 0.0024, Accuracy: 100.00%, Test Loss: 0.2823, Test Accuracy: 93.28%\n",
            "Epoch [282/300], Loss: 0.0023, Accuracy: 100.00%, Test Loss: 0.2891, Test Accuracy: 93.28%\n",
            "Epoch [283/300], Loss: 0.0024, Accuracy: 100.00%, Test Loss: 0.2918, Test Accuracy: 93.28%\n",
            "Epoch [284/300], Loss: 0.0024, Accuracy: 100.00%, Test Loss: 0.2853, Test Accuracy: 93.28%\n",
            "Epoch [285/300], Loss: 0.0024, Accuracy: 100.00%, Test Loss: 0.2857, Test Accuracy: 94.12%\n",
            "Epoch [286/300], Loss: 0.0026, Accuracy: 100.00%, Test Loss: 0.2872, Test Accuracy: 93.28%\n",
            "Epoch [287/300], Loss: 0.0024, Accuracy: 100.00%, Test Loss: 0.2884, Test Accuracy: 93.28%\n",
            "Epoch [288/300], Loss: 0.0026, Accuracy: 100.00%, Test Loss: 0.2862, Test Accuracy: 93.28%\n",
            "Epoch [289/300], Loss: 0.0027, Accuracy: 100.00%, Test Loss: 0.2930, Test Accuracy: 93.28%\n",
            "Epoch [290/300], Loss: 0.0025, Accuracy: 100.00%, Test Loss: 0.2929, Test Accuracy: 93.28%\n",
            "Epoch [291/300], Loss: 0.0025, Accuracy: 100.00%, Test Loss: 0.2893, Test Accuracy: 93.28%\n",
            "Epoch [292/300], Loss: 0.0028, Accuracy: 100.00%, Test Loss: 0.2913, Test Accuracy: 93.28%\n",
            "Epoch [293/300], Loss: 0.0027, Accuracy: 100.00%, Test Loss: 0.2896, Test Accuracy: 94.12%\n",
            "Epoch [294/300], Loss: 0.0028, Accuracy: 100.00%, Test Loss: 0.2891, Test Accuracy: 93.28%\n",
            "Epoch [295/300], Loss: 0.0024, Accuracy: 100.00%, Test Loss: 0.2905, Test Accuracy: 93.28%\n",
            "Epoch [296/300], Loss: 0.0025, Accuracy: 100.00%, Test Loss: 0.2816, Test Accuracy: 93.28%\n",
            "Epoch [297/300], Loss: 0.0023, Accuracy: 100.00%, Test Loss: 0.2792, Test Accuracy: 93.28%\n",
            "Epoch [298/300], Loss: 0.0025, Accuracy: 100.00%, Test Loss: 0.2887, Test Accuracy: 93.28%\n",
            "Epoch [299/300], Loss: 0.0023, Accuracy: 100.00%, Test Loss: 0.2845, Test Accuracy: 93.28%\n",
            "Epoch [300/300], Loss: 0.0021, Accuracy: 100.00%, Test Loss: 0.2780, Test Accuracy: 93.28%\n"
          ]
        }
      ],
      "source": [
        "# train\n",
        "best_accuracy = 0.0\n",
        "for epoch in range(max_epoch):\n",
        "    running_loss = 0.0\n",
        "    running_correct = 0   # to track number of correct predictions\n",
        "    total = 0             # to track total number of samples\n",
        "\n",
        "    for i, (inputs, labels) in enumerate(train_loader, 0):\n",
        "        # Move inputs and labels to the device\n",
        "        inputs, labels = inputs.to(device), labels.to(device)\n",
        "\n",
        "\n",
        "        # Zero the parameter gradients\n",
        "        optimizer.zero_grad()\n",
        "\n",
        "        # Forward pass\n",
        "        outputs = model(inputs)\n",
        "        loss = criterion(outputs, labels)\n",
        "        running_loss += loss.item()\n",
        "\n",
        "        # Determine class predictions and track accuracy\n",
        "        _, predicted = torch.max(outputs.data, 1)\n",
        "        total += labels.size(0)\n",
        "        running_correct += (predicted == labels).sum().item()\n",
        "\n",
        "        # Backward pass and optimization\n",
        "        loss.backward()\n",
        "        optimizer.step()\n",
        "\n",
        "    epoch_accuracy = 100 * running_correct / total\n",
        "    epoch_loss = running_loss / (i + 1)\n",
        "    test_loss, test_accuracy = evaluate(model, val_loader, criterion)\n",
        "    print(f\"Epoch [{epoch + 1}/{max_epoch}], Loss: {epoch_loss:.4f}, Accuracy: {epoch_accuracy:.2f}%, Test Loss: {test_loss:.4f}, Test Accuracy: {test_accuracy:.2f}%\")\n",
        "\n",
        "    # save for plot\n",
        "    train_losses.append(epoch_loss)\n",
        "    train_accuracies.append(epoch_accuracy)\n",
        "    test_losses.append(test_loss)\n",
        "    test_accuracies.append(test_accuracy)\n",
        "\n",
        "    #save weight model\n",
        "    if test_accuracy > best_accuracy:\n",
        "        best_accuracy = test_accuracy\n",
        "        torch.save(model.state_dict(), 'best_model.pth')"
      ]
    },
    {
      "cell_type": "markdown",
      "id": "0721d71c",
      "metadata": {
        "id": "0721d71c"
      },
      "source": [
        "## Đánh giá mô hình"
      ]
    },
    {
      "cell_type": "code",
      "execution_count": null,
      "id": "1cd50705",
      "metadata": {
        "colab": {
          "base_uri": "https://localhost:8080/",
          "height": 450
        },
        "id": "1cd50705",
        "outputId": "2a99550b-e895-42df-d3de-a52f320e71a6"
      },
      "outputs": [
        {
          "output_type": "execute_result",
          "data": {
            "text/plain": [
              "<matplotlib.legend.Legend at 0x7cfde2007ac0>"
            ]
          },
          "metadata": {},
          "execution_count": 50
        },
        {
          "output_type": "display_data",
          "data": {
            "text/plain": [
              "<Figure size 640x480 with 1 Axes>"
            ],
            "image/png": "[encoded data removed]"
          },
          "metadata": {}
        }
      ],
      "source": [
        "plt.plot(train_losses, label='train_losses')\n",
        "plt.legend()"
      ]
    },
    {
      "cell_type": "code",
      "source": [
        "plt.plot(test_losses, label='test_losses')\n",
        "plt.legend()"
      ],
      "metadata": {
        "colab": {
          "base_uri": "https://localhost:8080/",
          "height": 447
        },
        "id": "HI_KipH35N_K",
        "outputId": "4211c17e-4ef9-461a-86e3-5fef4d6e81df"
      },
      "id": "HI_KipH35N_K",
      "execution_count": null,
      "outputs": [
        {
          "output_type": "execute_result",
          "data": {
            "text/plain": [
              "<matplotlib.legend.Legend at 0x7cfde2077dc0>"
            ]
          },
          "metadata": {},
          "execution_count": 47
        },
        {
          "output_type": "display_data",
          "data": {
            "text/plain": [
              "<Figure size 640x480 with 1 Axes>"
            ],
            "image/png": "[encoded data removed]"
          },
          "metadata": {}
        }
      ]
    },
    {
      "cell_type": "code",
      "execution_count": null,
      "id": "ecdc4538",
      "metadata": {
        "colab": {
          "base_uri": "https://localhost:8080/",
          "height": 447
        },
        "id": "ecdc4538",
        "outputId": "b5b208af-3b11-4828-a573-65a24248ac4c"
      },
      "outputs": [
        {
          "output_type": "execute_result",
          "data": {
            "text/plain": [
              "<matplotlib.legend.Legend at 0x7cfde2076020>"
            ]
          },
          "metadata": {},
          "execution_count": 46
        },
        {
          "output_type": "display_data",
          "data": {
            "text/plain": [
              "<Figure size 640x480 with 1 Axes>"
            ],
            "image/png": "[encoded data removed]"
          },
          "metadata": {}
        }
      ],
      "source": [
        "plt.plot(train_accuracies, label='train_accuracy')\n",
        "plt.legend()"
      ]
    },
    {
      "cell_type": "code",
      "source": [
        "plt.plot(test_accuracies, label='test_accuracy')\n",
        "plt.legend()"
      ],
      "metadata": {
        "colab": {
          "base_uri": "https://localhost:8080/",
          "height": 447
        },
        "id": "8gkiHIb95R_U",
        "outputId": "1dea4659-53d1-4608-affe-22ad75f77c2e"
      },
      "id": "8gkiHIb95R_U",
      "execution_count": null,
      "outputs": [
        {
          "output_type": "execute_result",
          "data": {
            "text/plain": [
              "<matplotlib.legend.Legend at 0x7cfde1f7da80>"
            ]
          },
          "metadata": {},
          "execution_count": 48
        },
        {
          "output_type": "display_data",
          "data": {
            "text/plain": [
              "<Figure size 640x480 with 1 Axes>"
            ],
            "image/png": "[encoded data removed]"
          },
          "metadata": {}
        }
      ]
    }
  ],
  "metadata": {
    "kernelspec": {
      "display_name": "Python 3 (ipykernel)",
      "language": "python",
      "name": "python3"
    },
    "language_info": {
      "codemirror_mode": {
        "name": "ipython",
        "version": 3
      },
      "file_extension": ".py",
      "mimetype": "text/x-python",
      "name": "python",
      "nbconvert_exporter": "python",
      "pygments_lexer": "ipython3",
      "version": "3.9.12"
    },
    "colab": {
      "provenance": []
    }
  },
  "nbformat": 4,
  "nbformat_minor": 5
}